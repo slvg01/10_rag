{
 "cells": [
  {
   "cell_type": "code",
   "execution_count": 25,
   "metadata": {},
   "outputs": [],
   "source": [
    "import configparser\n",
    "\n",
    "# Read the configuration file\n",
    "config = configparser.ConfigParser()\n",
    "config.read('../config.ini')\n",
    "\n",
    "# Access the API token from the configuration file\n",
    "huggingfacehub_api_token = config.get('huggingface', 'api_token')\n",
    "# Set your API Key from OpenAI\n",
    "openai_api_key = config.get('openai', 'api_key')\n"
   ]
  },
  {
   "cell_type": "code",
   "execution_count": null,
   "metadata": {},
   "outputs": [],
   "source": [
    "# Set your API Key from OpenAI\n",
    "from langchain_community.document_loaders import PyPDFLoader\n",
    "from langchain.text_splitter import RecursiveCharacterTextSplitter\n",
    "from langchain_openai import OpenAIEmbeddings\n",
    "from langchain_community.vectorstores import Chroma\n",
    "\n",
    "loader = PyPDFLoader('../database/MANIFESTO_OF_SURREALISMP1.pdf')\n",
    "data = loader.load()\n",
    "print(type(data))\n",
    "print(data)\n",
    "\n",
    "# Extract text from the PDF document\n",
    "pdf_text = data.extract_text()\n",
    "\n",
    "chunk_size = 200\n",
    "chunk_overlap = 50\n",
    "\n",
    "# Split the quote using RecursiveCharacterTextSplitter\n",
    "splitter = RecursiveCharacterTextSplitter(\n",
    "    chunk_size=chunk_size, \n",
    "    chunk_overlap=chunk_overlap)\n",
    "\n",
    "chunks = splitter.split_text(data_text) \n",
    "\n",
    "print(chunks[:5])\n",
    "\n",
    "# Define an OpenAI embeddings model\n",
    "embedding_model = OpenAIEmbeddings(openai_api_key=openai_api_key)\n",
    "\n",
    "persist_directory = 'persist_directory'\n",
    "\n",
    "# Create the Chroma vector DB using the OpenAI embedding function; persist the database\n",
    "vectordb = Chroma(    \n",
    "    persist_directory=persist_directory,    \n",
    "    embedding_function=embedding_model\n",
    "    )\n",
    "\n",
    "vectordb.add_texts(texts=chunks)\n",
    "\n",
    "\n",
    "vectordb.persist()\n",
    "\n",
    "#  retrieve embeddings for specific texts:\n",
    "\n",
    "query_texts = chunks\n",
    "embeddings = vectordb.retrieve_embeddings(query_texts)\n",
    "\n",
    "num_embeddings = len(embeddings)\n",
    "print(\"Number of embeddings:\", num_embeddings)"
   ]
  },
  {
   "cell_type": "code",
   "execution_count": 28,
   "metadata": {},
   "outputs": [
    {
     "name": "stderr",
     "output_type": "stream",
     "text": [
      "Ignoring wrong pointing object 11 0 (offset 0)\n",
      "Ignoring wrong pointing object 35 0 (offset 0)\n"
     ]
    }
   ],
   "source": [
    "from langchain_openai import OpenAIEmbeddings\n",
    "from langchain_community.document_loaders import PyPDFLoader\n",
    "from langchain.text_splitter import RecursiveCharacterTextSplitter\n",
    "from langchain_community.vectorstores import Chroma\n",
    "\n",
    "\n",
    "# Load the PDF document\n",
    "loader = PyPDFLoader('../database/MANIFESTO_OF_SURREALISM.pdf')\n",
    "data = loader.load()\n",
    "\n",
    "# Define chunk size and overlap\n",
    "chunk_size = 200\n",
    "chunk_overlap = 50\n",
    "\n",
    "# Initialize OpenAI embeddings model\n",
    "embedding_model = OpenAIEmbeddings(openai_api_key=openai_api_key)\n",
    "\n",
    "# Initialize Chroma vector database\n",
    "persist_directory = 'path/to/persist_directory'\n",
    "vectordb = Chroma(persist_directory=persist_directory, embedding_function=embedding_model)\n",
    "\n",
    "# Loop through each page of the PDF document\n",
    "for document in data:\n",
    "    # Extract text from the page\n",
    "    page_text = document.page_content\n",
    "\n",
    "    # Split the text into chunks\n",
    "    splitter = RecursiveCharacterTextSplitter(chunk_size=chunk_size, chunk_overlap=chunk_overlap)\n",
    "    chunks = splitter.split_text(page_text)\n",
    "\n",
    "    # Add texts to the vector database\n",
    "    vectordb.add_texts(texts=chunks)\n",
    "\n",
    "# Persist the vector database\n",
    "vectordb.persist()\n",
    "\n",
    "\n"
   ]
  },
  {
   "cell_type": "code",
   "execution_count": null,
   "metadata": {},
   "outputs": [],
   "source": [
    "query_texts = chunks\n",
    "embeddings = vectordb.retrieve_embeddings(query_texts)"
   ]
  },
  {
   "cell_type": "code",
   "execution_count": null,
   "metadata": {},
   "outputs": [],
   "source": [
    "query_texts = chunks\n",
    "embeddings = embedding_model.embed(query_texts)\n",
    "print(len(embeddings))"
   ]
  }
 ],
 "metadata": {
  "kernelspec": {
   "display_name": "base",
   "language": "python",
   "name": "python3"
  },
  "language_info": {
   "codemirror_mode": {
    "name": "ipython",
    "version": 3
   },
   "file_extension": ".py",
   "mimetype": "text/x-python",
   "name": "python",
   "nbconvert_exporter": "python",
   "pygments_lexer": "ipython3",
   "version": "3.11.7"
  }
 },
 "nbformat": 4,
 "nbformat_minor": 2
}
